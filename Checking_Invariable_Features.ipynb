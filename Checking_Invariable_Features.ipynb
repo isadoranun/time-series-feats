{
 "metadata": {
  "name": "",
  "signature": "sha256:525f9336cc30ba7c05fe755488257d286051df0c5873631552df9c05c43142f6"
 },
 "nbformat": 3,
 "nbformat_minor": 0,
 "worksheets": [
  {
   "cells": [
    {
     "cell_type": "code",
     "collapsed": false,
     "input": [
      "%matplotlib inline\n",
      "from Feature import FeatureSpace\n",
      "import numpy as np\n",
      "import matplotlib.pyplot as plt\n",
      "import seaborn as sns\n",
      "import statsmodels.graphics.tsaplots as tsaplots\n",
      "import pandas as pd\n",
      "from import_lightcurve import ReadLC_MACHO\n",
      "from alignLC import Align_LC\n",
      "from PreprocessLC import Preprocess_LC\n",
      "from create_table import Table"
     ],
     "language": "python",
     "metadata": {},
     "outputs": [],
     "prompt_number": 1
    },
    {
     "cell_type": "code",
     "collapsed": false,
     "input": [
      "%load_ext autoreload\n",
      "%autoreload 2\n",
      "\n",
      "from IPython.display import Image\n",
      "\n",
      "%reload_ext autoreload"
     ],
     "language": "python",
     "metadata": {},
     "outputs": [
      {
       "output_type": "stream",
       "stream": "stdout",
       "text": [
        "The autoreload extension is already loaded. To reload it, use:\n",
        "  %reload_ext autoreload\n"
       ]
      }
     ],
     "prompt_number": 81
    },
    {
     "cell_type": "code",
     "collapsed": false,
     "input": [
      "lc_B = LeerLC_MACHO('lc_58.6272.729.B.mjd')  #58.6272.729 1.3444.614 1.4652.1527\n",
      "lc_R = LeerLC_MACHO('lc_58.6272.729.R.mjd')\n",
      "\n",
      "[data, mjd, error] = lc_B.leerLC()\n",
      "[data2, mjd2, error2] = lc_R.leerLC()\n",
      "\n",
      "#We preprocess the data\n",
      "preproccesed_data = Preprocess_LC(data, mjd, error)\n",
      "[data, mjd, error] = preproccesed_data.Preprocess()\n",
      "\n",
      "preproccesed_data = Preprocess_LC(data2, mjd2, error2)\n",
      "[second_data, mjd2, error2] = preproccesed_data.Preprocess()\n",
      "\n",
      "#We synchronize the data\n",
      "if len(data) != len(second_data):\n",
      "    [aligned_data, aligned_second_data, aligned_mjd] = Align_LC(mjd, mjd2, data, second_data, error, error2)"
     ],
     "language": "python",
     "metadata": {},
     "outputs": [],
     "prompt_number": 47
    },
    {
     "cell_type": "code",
     "collapsed": false,
     "input": [
      "def Shuffle(data, error, mjd, second_data, aligned_data, aligned_second_data):\n",
      "\n",
      "    N = len(data)\n",
      "    shuffle = np.arange(0, N)\n",
      "    index = np.random.permutation(shuffle)\n",
      "    index = np.sort(index[0:N/2])\n",
      "    \n",
      "    data_test = data[index]\n",
      "    mjd_test = mjd[index]\n",
      "    error_test = error[index]\n",
      "\n",
      "    N2 = len(second_data)\n",
      "    shuffle2 = np.arange(0, N2)\n",
      "    index2 = np.random.permutation(shuffle2)\n",
      "    index2 = np.sort(index2[0:N2/2])\n",
      "\n",
      "    second_data_test = second_data[index2]\n",
      "\n",
      "    N3 = len(aligned_data)\n",
      "    shuffle3 = np.arange(0, N3)\n",
      "    index3 = np.random.permutation(shuffle3)\n",
      "    index3 = np.sort(index3[0:N3/2])\n",
      "\n",
      "    aligned_data_test = aligned_data[index3]\n",
      "    aligned_second_data_test = aligned_second_data[index3]\n",
      "    aligned_mjd_test = aligned_mjd[index3]\n",
      "    \n",
      "    return data_test, mjd_test, error_test, second_data_test, aligned_data_test, aligned_second_data_test, aligned_mjd_test"
     ],
     "language": "python",
     "metadata": {},
     "outputs": [],
     "prompt_number": 48
    },
    {
     "cell_type": "heading",
     "level": 3,
     "metadata": {},
     "source": [
      "Sampled light curve"
     ]
    },
    {
     "cell_type": "code",
     "collapsed": false,
     "input": [
      "features_value=[]\n",
      "for i in xrange(50):\n",
      "    [data_test, mjd_test, error_test, second_data_test, aligned_data_test, aligned_second_data_test, aligned_mjd_test] = Shuffle(data, error, mjd, second_data, aligned_data, aligned_second_data)\n",
      "    print i\n",
      "    a = FeatureSpace(category='all',featureList=None, Automean=[0,0], StetsonL=[aligned_second_data_test, aligned_data_test] ,  B_R=second_data_test, Beyond1Std=error_test, StetsonJ=[aligned_second_data_test, aligned_data_test], MaxSlope=mjd_test, LinearTrend=mjd_test, Eta_B_R=[aligned_second_data_test, aligned_data_test, aligned_mjd_test], Eta_e=mjd_test, Q31B_R=[aligned_second_data_test, aligned_data_test], PeriodLS=mjd_test, CAR_sigma=[mjd_test, error_test], SlottedA = mjd_test, Psi_CS = mjd)\n",
      "    a=a.calculateFeature(data_test)\n",
      "    features_value.append(a.result(method='array'))"
     ],
     "language": "python",
     "metadata": {},
     "outputs": [
      {
       "output_type": "stream",
       "stream": "stdout",
       "text": [
        "0\n",
        "1"
       ]
      },
      {
       "output_type": "stream",
       "stream": "stdout",
       "text": [
        "\n",
        "2"
       ]
      },
      {
       "output_type": "stream",
       "stream": "stdout",
       "text": [
        "\n",
        "3"
       ]
      },
      {
       "output_type": "stream",
       "stream": "stdout",
       "text": [
        "\n",
        "4"
       ]
      },
      {
       "output_type": "stream",
       "stream": "stdout",
       "text": [
        "\n",
        "5"
       ]
      },
      {
       "output_type": "stream",
       "stream": "stdout",
       "text": [
        "\n",
        "6"
       ]
      },
      {
       "output_type": "stream",
       "stream": "stdout",
       "text": [
        "\n",
        "7"
       ]
      },
      {
       "output_type": "stream",
       "stream": "stdout",
       "text": [
        "\n",
        "8"
       ]
      },
      {
       "output_type": "stream",
       "stream": "stdout",
       "text": [
        "\n",
        "9"
       ]
      },
      {
       "output_type": "stream",
       "stream": "stdout",
       "text": [
        "\n",
        "10"
       ]
      },
      {
       "output_type": "stream",
       "stream": "stdout",
       "text": [
        "\n",
        "11"
       ]
      },
      {
       "output_type": "stream",
       "stream": "stdout",
       "text": [
        "\n",
        "12"
       ]
      },
      {
       "output_type": "stream",
       "stream": "stdout",
       "text": [
        "\n",
        "13"
       ]
      },
      {
       "output_type": "stream",
       "stream": "stdout",
       "text": [
        "\n",
        "14"
       ]
      },
      {
       "output_type": "stream",
       "stream": "stdout",
       "text": [
        "\n",
        "15"
       ]
      },
      {
       "output_type": "stream",
       "stream": "stdout",
       "text": [
        "\n",
        "16"
       ]
      },
      {
       "output_type": "stream",
       "stream": "stdout",
       "text": [
        "\n",
        "17"
       ]
      },
      {
       "output_type": "stream",
       "stream": "stdout",
       "text": [
        "\n",
        "18"
       ]
      },
      {
       "output_type": "stream",
       "stream": "stdout",
       "text": [
        "\n",
        "19"
       ]
      },
      {
       "output_type": "stream",
       "stream": "stdout",
       "text": [
        "\n",
        "20"
       ]
      },
      {
       "output_type": "stream",
       "stream": "stdout",
       "text": [
        "\n",
        "21"
       ]
      },
      {
       "output_type": "stream",
       "stream": "stdout",
       "text": [
        "\n",
        "22"
       ]
      },
      {
       "output_type": "stream",
       "stream": "stdout",
       "text": [
        "\n",
        "23"
       ]
      },
      {
       "output_type": "stream",
       "stream": "stdout",
       "text": [
        "\n",
        "24"
       ]
      },
      {
       "output_type": "stream",
       "stream": "stdout",
       "text": [
        "\n",
        "25"
       ]
      },
      {
       "output_type": "stream",
       "stream": "stdout",
       "text": [
        "\n",
        "26"
       ]
      },
      {
       "output_type": "stream",
       "stream": "stdout",
       "text": [
        "\n",
        "27"
       ]
      },
      {
       "output_type": "stream",
       "stream": "stdout",
       "text": [
        "\n",
        "28"
       ]
      },
      {
       "output_type": "stream",
       "stream": "stdout",
       "text": [
        "\n",
        "29"
       ]
      },
      {
       "output_type": "stream",
       "stream": "stdout",
       "text": [
        "\n",
        "30"
       ]
      },
      {
       "output_type": "stream",
       "stream": "stdout",
       "text": [
        "\n",
        "31"
       ]
      },
      {
       "output_type": "stream",
       "stream": "stdout",
       "text": [
        "\n",
        "32"
       ]
      },
      {
       "output_type": "stream",
       "stream": "stdout",
       "text": [
        "\n",
        "33"
       ]
      },
      {
       "output_type": "stream",
       "stream": "stdout",
       "text": [
        "\n",
        "34"
       ]
      },
      {
       "output_type": "stream",
       "stream": "stdout",
       "text": [
        "\n",
        "35"
       ]
      },
      {
       "output_type": "stream",
       "stream": "stdout",
       "text": [
        "\n",
        "36"
       ]
      },
      {
       "output_type": "stream",
       "stream": "stdout",
       "text": [
        "\n",
        "37"
       ]
      },
      {
       "output_type": "stream",
       "stream": "stdout",
       "text": [
        "\n",
        "38"
       ]
      },
      {
       "output_type": "stream",
       "stream": "stdout",
       "text": [
        "\n",
        "39"
       ]
      },
      {
       "output_type": "stream",
       "stream": "stdout",
       "text": [
        "\n",
        "40"
       ]
      },
      {
       "output_type": "stream",
       "stream": "stdout",
       "text": [
        "\n",
        "41"
       ]
      },
      {
       "output_type": "stream",
       "stream": "stdout",
       "text": [
        "\n",
        "42"
       ]
      },
      {
       "output_type": "stream",
       "stream": "stdout",
       "text": [
        "\n",
        "43"
       ]
      },
      {
       "output_type": "stream",
       "stream": "stdout",
       "text": [
        "\n",
        "44"
       ]
      },
      {
       "output_type": "stream",
       "stream": "stdout",
       "text": [
        "\n",
        "45"
       ]
      },
      {
       "output_type": "stream",
       "stream": "stdout",
       "text": [
        "\n",
        "46"
       ]
      },
      {
       "output_type": "stream",
       "stream": "stdout",
       "text": [
        "\n",
        "47"
       ]
      },
      {
       "output_type": "stream",
       "stream": "stdout",
       "text": [
        "\n",
        "48"
       ]
      },
      {
       "output_type": "stream",
       "stream": "stdout",
       "text": [
        "\n",
        "49"
       ]
      },
      {
       "output_type": "stream",
       "stream": "stdout",
       "text": [
        "\n"
       ]
      }
     ],
     "prompt_number": 49
    },
    {
     "cell_type": "code",
     "collapsed": false,
     "input": [
      "features_value2 = np.asarray(features_value)\n",
      "means=[]\n",
      "stds=[]\n",
      "for i in xrange(len(a.result(method='features'))):\n",
      "    means.append(np.mean(features_value2[:,i]))\n",
      "    stds.append(np.std(features_value2[:,i]))"
     ],
     "language": "python",
     "metadata": {},
     "outputs": [],
     "prompt_number": 50
    },
    {
     "cell_type": "heading",
     "level": 3,
     "metadata": {},
     "source": [
      "Original light-curve"
     ]
    },
    {
     "cell_type": "code",
     "collapsed": false,
     "input": [
      "a2 = FeatureSpace(category='all',featureList=None, Automean=[0,0], StetsonL=[aligned_second_data, aligned_data] , B_R=second_data, Beyond1Std=error, StetsonJ=[aligned_second_data, aligned_data], MaxSlope=mjd, LinearTrend=mjd, Eta_B_R=[aligned_second_data, aligned_data, aligned_mjd], Eta_e=mjd, Q31B_R=[aligned_second_data, aligned_data], PeriodLS=mjd, CAR_sigma=[mjd, error], SlottedA = mjd, Psi_CS=mjd)\n",
      "a2 =a2.calculateFeature(data)\n",
      "\n",
      "Table(a2)"
     ],
     "language": "python",
     "metadata": {},
     "outputs": [
      {
       "html": [
        "<table border=\"1\" cellpadding=\"3\" cellspacing=\"0\"  style=\"border:1px solid black;border-collapse:collapse;\"><tr><td  style=\"background-color:LightGray;\"><b>Feature</b></td><td  style=\"background-color:LightGray;\"><b>Value</b></td></tr><tr><td  style=\"background-color:Ivory;\">Amplitude</td><td  style=\"background-color:Ivory;\">0.70500</td></tr><tr><td  style=\"background-color:AliceBlue;\">AndersonDarling</td><td  style=\"background-color:AliceBlue;\">1.00000</td></tr><tr><td  style=\"background-color:Ivory;\">Autocor</td><td  style=\"background-color:Ivory;\">24.00000</td></tr><tr><td  style=\"background-color:AliceBlue;\">Automean</td><td  style=\"background-color:AliceBlue;\">-4.19367</td></tr><tr><td  style=\"background-color:Ivory;\">B_R</td><td  style=\"background-color:Ivory;\">0.20397</td></tr><tr><td  style=\"background-color:AliceBlue;\">Beyond1Std</td><td  style=\"background-color:AliceBlue;\">0.25434</td></tr><tr><td  style=\"background-color:Ivory;\">Bmean</td><td  style=\"background-color:Ivory;\">-4.19367</td></tr><tr><td  style=\"background-color:AliceBlue;\">CAR_sigma</td><td  style=\"background-color:AliceBlue;\">0.01354</td></tr><tr><td  style=\"background-color:Ivory;\">CAR_tau</td><td  style=\"background-color:Ivory;\">1282.76117</td></tr><tr><td  style=\"background-color:AliceBlue;\">CAR_tmean</td><td  style=\"background-color:AliceBlue;\">-0.00327</td></tr><tr><td  style=\"background-color:Ivory;\">Con</td><td  style=\"background-color:Ivory;\">0.03198</td></tr><tr><td  style=\"background-color:AliceBlue;\">Eta_B_R</td><td  style=\"background-color:AliceBlue;\">67202.64628</td></tr><tr><td  style=\"background-color:Ivory;\">Eta_e</td><td  style=\"background-color:Ivory;\">764.39909</td></tr><tr><td  style=\"background-color:AliceBlue;\">FluxPercentileRatioMid20</td><td  style=\"background-color:AliceBlue;\">0.18995</td></tr><tr><td  style=\"background-color:Ivory;\">FluxPercentileRatioMid35</td><td  style=\"background-color:Ivory;\">0.30920</td></tr><tr><td  style=\"background-color:AliceBlue;\">FluxPercentileRatioMid50</td><td  style=\"background-color:AliceBlue;\">0.42845</td></tr><tr><td  style=\"background-color:Ivory;\">FluxPercentileRatioMid65</td><td  style=\"background-color:Ivory;\">0.55281</td></tr><tr><td  style=\"background-color:AliceBlue;\">FluxPercentileRatioMid80</td><td  style=\"background-color:AliceBlue;\">0.69080</td></tr><tr><td  style=\"background-color:Ivory;\">LinearTrend</td><td  style=\"background-color:Ivory;\">-0.00015</td></tr><tr><td  style=\"background-color:AliceBlue;\">MaxSlope</td><td  style=\"background-color:AliceBlue;\">22.80186</td></tr><tr><td  style=\"background-color:Ivory;\">Meanvariance</td><td  style=\"background-color:Ivory;\">-0.08538</td></tr><tr><td  style=\"background-color:AliceBlue;\">MedianAbsDev</td><td  style=\"background-color:AliceBlue;\">0.25500</td></tr><tr><td  style=\"background-color:Ivory;\">MedianBRP</td><td  style=\"background-color:Ivory;\">0.50289</td></tr><tr><td  style=\"background-color:AliceBlue;\">PairSlopeTrend</td><td  style=\"background-color:AliceBlue;\">0.23333</td></tr><tr><td  style=\"background-color:Ivory;\">PercentAmplitude</td><td  style=\"background-color:Ivory;\">-0.34058</td></tr><tr><td  style=\"background-color:AliceBlue;\">PercentDifferenceFluxPercentile</td><td  style=\"background-color:AliceBlue;\">-0.27757</td></tr><tr><td  style=\"background-color:Ivory;\">PeriodLS</td><td  style=\"background-color:Ivory;\">2544.98292</td></tr><tr><td  style=\"background-color:AliceBlue;\">Period_fit</td><td  style=\"background-color:AliceBlue;\">0.00000</td></tr><tr><td  style=\"background-color:Ivory;\">Psi_CS</td><td  style=\"background-color:Ivory;\">0.35335</td></tr><tr><td  style=\"background-color:AliceBlue;\">Psi_eta</td><td  style=\"background-color:AliceBlue;\">0.59690</td></tr><tr><td  style=\"background-color:Ivory;\">Q31</td><td  style=\"background-color:Ivory;\">0.50150</td></tr><tr><td  style=\"background-color:AliceBlue;\">Q31B_R</td><td  style=\"background-color:AliceBlue;\">0.17625</td></tr><tr><td  style=\"background-color:Ivory;\">Rcs</td><td  style=\"background-color:Ivory;\">0.35335</td></tr><tr><td  style=\"background-color:AliceBlue;\">Skew</td><td  style=\"background-color:AliceBlue;\">0.80443</td></tr><tr><td  style=\"background-color:Ivory;\">SlottedA</td><td  style=\"background-color:Ivory;\">140.00000</td></tr><tr><td  style=\"background-color:AliceBlue;\">SmallKurtosis</td><td  style=\"background-color:AliceBlue;\">1.05566</td></tr><tr><td  style=\"background-color:Ivory;\">Std</td><td  style=\"background-color:Ivory;\">0.35804</td></tr><tr><td  style=\"background-color:AliceBlue;\">StetsonJ</td><td  style=\"background-color:AliceBlue;\">0.59582</td></tr><tr><td  style=\"background-color:Ivory;\">StetsonK</td><td  style=\"background-color:Ivory;\">0.79736</td></tr><tr><td  style=\"background-color:AliceBlue;\">StetsonK_AC</td><td  style=\"background-color:AliceBlue;\">0.78120</td></tr><tr><td  style=\"background-color:Ivory;\">StetsonL</td><td  style=\"background-color:Ivory;\">0.30927</td></tr></table>"
       ],
       "metadata": {},
       "output_type": "pyout",
       "prompt_number": 51,
       "text": [
        "<ipy_table.IpyTable at 0x10c3fb090>"
       ]
      }
     ],
     "prompt_number": 51
    },
    {
     "cell_type": "heading",
     "level": 3,
     "metadata": {},
     "source": [
      "Percentage difference"
     ]
    },
    {
     "cell_type": "code",
     "collapsed": false,
     "input": [
      "b = np.divide(np.abs((means - a2.result(method='array'))), stds) \n",
      "from ipy_table import *\n",
      "\n",
      "FeaturesList = [('Feature','Value')]\n",
      "\n",
      "for i in xrange(len(b)):\n",
      "\n",
      "    FeaturesList.append((a.result(method= 'features')[i], b[i]))\n",
      "\n",
      "make_table(FeaturesList)\n",
      "apply_theme('basic')\n",
      "set_global_style(float_format='%0.3f')"
     ],
     "language": "python",
     "metadata": {},
     "outputs": [
      {
       "html": [
        "<table border=\"1\" cellpadding=\"3\" cellspacing=\"0\"  style=\"border:1px solid black;border-collapse:collapse;\"><tr><td  style=\"background-color:LightGray;\"><b>Feature</b></td><td  style=\"background-color:LightGray;\"><b>Value</b></td></tr><tr><td  style=\"background-color:Ivory;\">Amplitude</td><td  style=\"background-color:Ivory;\">0.301</td></tr><tr><td  style=\"background-color:AliceBlue;\">AndersonDarling</td><td  style=\"background-color:AliceBlue;\">0.304</td></tr><tr><td  style=\"background-color:Ivory;\">Autocor</td><td  style=\"background-color:Ivory;\">3.325</td></tr><tr><td  style=\"background-color:AliceBlue;\">Automean</td><td  style=\"background-color:AliceBlue;\">0.068</td></tr><tr><td  style=\"background-color:Ivory;\">B_R</td><td  style=\"background-color:Ivory;\">0.183</td></tr><tr><td  style=\"background-color:AliceBlue;\">Beyond1Std</td><td  style=\"background-color:AliceBlue;\">0.510</td></tr><tr><td  style=\"background-color:Ivory;\">Bmean</td><td  style=\"background-color:Ivory;\">0.068</td></tr><tr><td  style=\"background-color:AliceBlue;\">CAR_sigma</td><td  style=\"background-color:AliceBlue;\">0.194</td></tr><tr><td  style=\"background-color:Ivory;\">CAR_tau</td><td  style=\"background-color:Ivory;\">2.597</td></tr><tr><td  style=\"background-color:AliceBlue;\">CAR_tmean</td><td  style=\"background-color:AliceBlue;\">1.801</td></tr><tr><td  style=\"background-color:Ivory;\">Con</td><td  style=\"background-color:Ivory;\">0.127</td></tr><tr><td  style=\"background-color:AliceBlue;\">Eta_B_R</td><td  style=\"background-color:AliceBlue;\">0.132</td></tr><tr><td  style=\"background-color:Ivory;\">Eta_e</td><td  style=\"background-color:Ivory;\">0.381</td></tr><tr><td  style=\"background-color:AliceBlue;\">FluxPercentileRatioMid20</td><td  style=\"background-color:AliceBlue;\">0.193</td></tr><tr><td  style=\"background-color:Ivory;\">FluxPercentileRatioMid35</td><td  style=\"background-color:Ivory;\">0.139</td></tr><tr><td  style=\"background-color:AliceBlue;\">FluxPercentileRatioMid50</td><td  style=\"background-color:AliceBlue;\">0.001</td></tr><tr><td  style=\"background-color:Ivory;\">FluxPercentileRatioMid65</td><td  style=\"background-color:Ivory;\">0.134</td></tr><tr><td  style=\"background-color:AliceBlue;\">FluxPercentileRatioMid80</td><td  style=\"background-color:AliceBlue;\">0.170</td></tr><tr><td  style=\"background-color:Ivory;\">LinearTrend</td><td  style=\"background-color:Ivory;\">0.133</td></tr><tr><td  style=\"background-color:AliceBlue;\">MaxSlope</td><td  style=\"background-color:AliceBlue;\">1.508</td></tr><tr><td  style=\"background-color:Ivory;\">Meanvariance</td><td  style=\"background-color:Ivory;\">0.091</td></tr><tr><td  style=\"background-color:AliceBlue;\">MedianAbsDev</td><td  style=\"background-color:AliceBlue;\">0.549</td></tr><tr><td  style=\"background-color:Ivory;\">MedianBRP</td><td  style=\"background-color:Ivory;\">0.788</td></tr><tr><td  style=\"background-color:AliceBlue;\">PairSlopeTrend</td><td  style=\"background-color:AliceBlue;\">1.429</td></tr><tr><td  style=\"background-color:Ivory;\">PercentAmplitude</td><td  style=\"background-color:Ivory;\">0.843</td></tr><tr><td  style=\"background-color:AliceBlue;\">PercentDifferenceFluxPercentile</td><td  style=\"background-color:AliceBlue;\">0.094</td></tr><tr><td  style=\"background-color:Ivory;\">PeriodLS</td><td  style=\"background-color:Ivory;\">0.649</td></tr><tr><td  style=\"background-color:AliceBlue;\">Period_fit</td><td  style=\"background-color:AliceBlue;\">0.211</td></tr><tr><td  style=\"background-color:Ivory;\">Psi_CS</td><td  style=\"background-color:Ivory;\">0.269</td></tr><tr><td  style=\"background-color:AliceBlue;\">Psi_eta</td><td  style=\"background-color:AliceBlue;\">0.444</td></tr><tr><td  style=\"background-color:Ivory;\">Q31</td><td  style=\"background-color:Ivory;\">0.165</td></tr><tr><td  style=\"background-color:AliceBlue;\">Q31B_R</td><td  style=\"background-color:AliceBlue;\">0.189</td></tr><tr><td  style=\"background-color:Ivory;\">Rcs</td><td  style=\"background-color:Ivory;\">0.269</td></tr><tr><td  style=\"background-color:AliceBlue;\">Skew</td><td  style=\"background-color:AliceBlue;\">0.119</td></tr><tr><td  style=\"background-color:Ivory;\">SlottedA</td><td  style=\"background-color:Ivory;\">1.724</td></tr><tr><td  style=\"background-color:AliceBlue;\">SmallKurtosis</td><td  style=\"background-color:AliceBlue;\">0.109</td></tr><tr><td  style=\"background-color:Ivory;\">Std</td><td  style=\"background-color:Ivory;\">0.086</td></tr><tr><td  style=\"background-color:AliceBlue;\">StetsonJ</td><td  style=\"background-color:AliceBlue;\">0.394</td></tr><tr><td  style=\"background-color:Ivory;\">StetsonK</td><td  style=\"background-color:Ivory;\">0.251</td></tr><tr><td  style=\"background-color:AliceBlue;\">StetsonK_AC</td><td  style=\"background-color:AliceBlue;\">0.441</td></tr><tr><td  style=\"background-color:Ivory;\">StetsonL</td><td  style=\"background-color:Ivory;\">0.739</td></tr></table>"
       ],
       "metadata": {},
       "output_type": "pyout",
       "prompt_number": 52,
       "text": [
        "<ipy_table.IpyTable at 0x10c3fba10>"
       ]
      }
     ],
     "prompt_number": 52
    },
    {
     "cell_type": "code",
     "collapsed": false,
     "input": [
      "meansa=np.asarray(means)\n",
      "stdsa = np.asarray(stds)\n",
      "for i in xrange(len(a.result(method='features'))):\n",
      "    print  100*stdsa[i]/means[i], a2.result(method= 'features')[i]  #, meansa[i], stdsa[i]"
     ],
     "language": "python",
     "metadata": {},
     "outputs": [
      {
       "output_type": "stream",
       "stream": "stdout",
       "text": [
        "4.61786551169 Amplitude\n",
        "0.000230761740023 AndersonDarling\n",
        "23.3891161538 Autocor\n",
        "-0.564167195835 Automean\n",
        "15.8594979001 B_R\n",
        "8.55680181092 Beyond1Std\n",
        "-0.564167195835 Bmean\n",
        "66.6052873264 CAR_sigma\n",
        "17.1329811871 CAR_tau\n",
        "-18.2706930807 CAR_tmean\n",
        "34.2577185837 Con\n",
        "219.177294126 Eta_B_R\n",
        "141.450859103 Eta_e\n",
        "10.8564934689 FluxPercentileRatioMid20\n",
        "8.16559381151 FluxPercentileRatioMid35\n",
        "7.64895915608 FluxPercentileRatioMid50\n",
        "6.95052562944 FluxPercentileRatioMid65\n",
        "5.80232160508 FluxPercentileRatioMid80\n",
        "-27.037192667 LinearTrend\n",
        "112.422441343 MaxSlope\n",
        "-4.82732025799 Meanvariance\n",
        "6.80548525596 MedianAbsDev\n",
        "16.8155744048 MedianBRP\n",
        "97.7894153292 PairSlopeTrend\n",
        "-10.5417878364 PercentAmplitude\n",
        "-7.58619114353 PercentDifferenceFluxPercentile\n",
        "4.85790037378 PeriodLS\n",
        "474.672527527 Period_fit\n",
        "4.17115878194 Psi_CS\n",
        "27.9835074998 Psi_eta\n",
        "4.82761865964 Q31\n",
        "12.7899486498 Q31B_R\n",
        "4.17115878194 Rcs\n",
        "22.8253670484 Skew\n",
        "51.5006175446 SlottedA\n",
        "41.9317639706 SmallKurtosis\n",
        "4.48635976178 Std\n",
        "8.22883125393 StetsonJ\n",
        "1.6976563363 StetsonK\n",
        "2.9914937937 StetsonK_AC\n",
        "17.1497789048 StetsonL\n"
       ]
      }
     ],
     "prompt_number": 53
    },
    {
     "cell_type": "code",
     "collapsed": false,
     "input": [
      "print means[29], stds[29], a2.result(method='array')[29]"
     ],
     "language": "python",
     "metadata": {},
     "outputs": [
      {
       "output_type": "stream",
       "stream": "stdout",
       "text": [
        "0.631602342313 0.0579043124966 0.589102682941\n"
       ]
      }
     ],
     "prompt_number": 43
    },
    {
     "cell_type": "code",
     "collapsed": false,
     "input": [
      "import FATS as F"
     ],
     "language": "python",
     "metadata": {},
     "outputs": [],
     "prompt_number": 2
    },
    {
     "cell_type": "code",
     "collapsed": false,
     "input": [
      "data = pd.read_csv('064533-2049.3-linea-17228.asas.pdm0',index_col=False, header=False, delim_whitespace=True)\n",
      "data.columns = ['time', 'mag','error']"
     ],
     "language": "python",
     "metadata": {},
     "outputs": [],
     "prompt_number": 63
    },
    {
     "cell_type": "code",
     "collapsed": false,
     "input": [
      "data.head()"
     ],
     "language": "python",
     "metadata": {},
     "outputs": [
      {
       "html": [
        "<div style=\"max-height:1000px;max-width:1500px;overflow:auto;\">\n",
        "<table border=\"1\" class=\"dataframe\">\n",
        "  <thead>\n",
        "    <tr style=\"text-align: right;\">\n",
        "      <th></th>\n",
        "      <th>time</th>\n",
        "      <th>mag</th>\n",
        "      <th>error</th>\n",
        "    </tr>\n",
        "  </thead>\n",
        "  <tbody>\n",
        "    <tr>\n",
        "      <th>0</th>\n",
        "      <td> 1869.75587</td>\n",
        "      <td> 10.806</td>\n",
        "      <td> 0.066</td>\n",
        "    </tr>\n",
        "    <tr>\n",
        "      <th>1</th>\n",
        "      <td> 1872.79879</td>\n",
        "      <td> 10.768</td>\n",
        "      <td> 0.064</td>\n",
        "    </tr>\n",
        "    <tr>\n",
        "      <th>2</th>\n",
        "      <td> 1873.78942</td>\n",
        "      <td> 10.787</td>\n",
        "      <td> 0.067</td>\n",
        "    </tr>\n",
        "    <tr>\n",
        "      <th>3</th>\n",
        "      <td> 1876.76319</td>\n",
        "      <td> 11.491</td>\n",
        "      <td> 0.065</td>\n",
        "    </tr>\n",
        "    <tr>\n",
        "      <th>4</th>\n",
        "      <td> 1876.76319</td>\n",
        "      <td> 10.775</td>\n",
        "      <td> 0.065</td>\n",
        "    </tr>\n",
        "  </tbody>\n",
        "</table>\n",
        "</div>"
       ],
       "metadata": {},
       "output_type": "pyout",
       "prompt_number": 25,
       "text": [
        "         time     mag  error\n",
        "0  1869.75587  10.806  0.066\n",
        "1  1872.79879  10.768  0.064\n",
        "2  1873.78942  10.787  0.067\n",
        "3  1876.76319  11.491  0.065\n",
        "4  1876.76319  10.775  0.065"
       ]
      }
     ],
     "prompt_number": 25
    },
    {
     "cell_type": "code",
     "collapsed": false,
     "input": [
      "time = np.asarray(data.time)\n",
      "mag = np.asarray(data.mag)\n",
      "error = np.asarray(data.error)"
     ],
     "language": "python",
     "metadata": {},
     "outputs": [],
     "prompt_number": 64
    },
    {
     "cell_type": "code",
     "collapsed": false,
     "input": [
      "lc = np.array([mag,time,error])"
     ],
     "language": "python",
     "metadata": {},
     "outputs": [],
     "prompt_number": 57
    },
    {
     "cell_type": "code",
     "collapsed": false,
     "input": [
      "lc"
     ],
     "language": "python",
     "metadata": {},
     "outputs": [
      {
       "metadata": {},
       "output_type": "pyout",
       "prompt_number": 32,
       "text": [
        "array([[  1.86975587e+03,   1.87279879e+03,   1.87378942e+03, ...,\n",
        "          5.16278166e+03,   5.16576092e+03,   5.16874789e+03],\n",
        "       [  1.08060000e+01,   1.07680000e+01,   1.07870000e+01, ...,\n",
        "          1.08370000e+01,   1.08090000e+01,   1.08760000e+01],\n",
        "       [  6.60000000e-02,   6.40000000e-02,   6.70000000e-02, ...,\n",
        "          5.50000000e-02,   4.90000000e-02,   5.10000000e-02]])"
       ]
      }
     ],
     "prompt_number": 32
    },
    {
     "cell_type": "code",
     "collapsed": false,
     "input": [
      "a = F.FeatureSpace(Data= ['magnitude', 'time','error'], featureList=None )\n",
      "a=a.calculateFeature(lc)\n",
      "Table(a)"
     ],
     "language": "python",
     "metadata": {},
     "outputs": [
      {
       "output_type": "stream",
       "stream": "stdout",
       "text": [
        "Warning: the feature Color could not be calculated because ['magnitude', 'time', 'magnitude2'] are needed.\n",
        "Warning: the feature Eta_color could not be calculated because ['magnitude', 'time', 'magnitude2'] are needed.\n",
        "Warning: the feature"
       ]
      },
      {
       "output_type": "stream",
       "stream": "stdout",
       "text": [
        " Q31_color could not be calculated because ['magnitude', 'time', 'magnitude2'] are needed.\n",
        "Warning: the feature StetsonJ could not be calculated because ['magnitude', 'time', 'magnitude2'] are needed.\n",
        "Warning: the feature StetsonL could not be calculated because ['magnitude', 'time', 'magnitude2'] are needed.\n"
       ]
      },
      {
       "html": [
        "<table border=\"1\" cellpadding=\"3\" cellspacing=\"0\"  style=\"border:1px solid black;border-collapse:collapse;\"><tr><td  style=\"background-color:LightGray;\"><b>Feature</b></td><td  style=\"background-color:LightGray;\"><b>Value</b></td></tr><tr><td  style=\"background-color:Ivory;\">Amplitude</td><td  style=\"background-color:Ivory;\">0.59425</td></tr><tr><td  style=\"background-color:AliceBlue;\">AndersonDarling</td><td  style=\"background-color:AliceBlue;\">1.00000</td></tr><tr><td  style=\"background-color:Ivory;\">Autocor_length</td><td  style=\"background-color:Ivory;\">1.00000</td></tr><tr><td  style=\"background-color:AliceBlue;\">Beyond1Std</td><td  style=\"background-color:AliceBlue;\">0.05596</td></tr><tr><td  style=\"background-color:Ivory;\">CAR_mean</td><td  style=\"background-color:Ivory;\">3837.09347</td></tr><tr><td  style=\"background-color:AliceBlue;\">CAR_sigma</td><td  style=\"background-color:AliceBlue;\">6.83131</td></tr><tr><td  style=\"background-color:Ivory;\">CAR_tau</td><td  style=\"background-color:Ivory;\">0.00283</td></tr><tr><td  style=\"background-color:AliceBlue;\">Con</td><td  style=\"background-color:AliceBlue;\">0.00000</td></tr><tr><td  style=\"background-color:Ivory;\">Eta_e</td><td  style=\"background-color:Ivory;\">112192.23290</td></tr><tr><td  style=\"background-color:AliceBlue;\">FluxPercentileRatioMid20</td><td  style=\"background-color:AliceBlue;\">0.03483</td></tr><tr><td  style=\"background-color:Ivory;\">FluxPercentileRatioMid35</td><td  style=\"background-color:Ivory;\">0.06633</td></tr><tr><td  style=\"background-color:AliceBlue;\">FluxPercentileRatioMid50</td><td  style=\"background-color:AliceBlue;\">0.09453</td></tr><tr><td  style=\"background-color:Ivory;\">FluxPercentileRatioMid65</td><td  style=\"background-color:Ivory;\">0.14428</td></tr><tr><td  style=\"background-color:AliceBlue;\">FluxPercentileRatioMid80</td><td  style=\"background-color:AliceBlue;\">0.23715</td></tr><tr><td  style=\"background-color:Ivory;\">Freq1_harmonics_amplitude_0</td><td  style=\"background-color:Ivory;\">0.07609</td></tr><tr><td  style=\"background-color:AliceBlue;\">Freq1_harmonics_amplitude_1</td><td  style=\"background-color:AliceBlue;\">0.03088</td></tr><tr><td  style=\"background-color:Ivory;\">Freq1_harmonics_amplitude_2</td><td  style=\"background-color:Ivory;\">0.01469</td></tr><tr><td  style=\"background-color:AliceBlue;\">Freq1_harmonics_amplitude_3</td><td  style=\"background-color:AliceBlue;\">0.00587</td></tr><tr><td  style=\"background-color:Ivory;\">Freq1_harmonics_rel_phase_0</td><td  style=\"background-color:Ivory;\">0.00000</td></tr><tr><td  style=\"background-color:AliceBlue;\">Freq1_harmonics_rel_phase_1</td><td  style=\"background-color:AliceBlue;\">-1.54432</td></tr><tr><td  style=\"background-color:Ivory;\">Freq1_harmonics_rel_phase_2</td><td  style=\"background-color:Ivory;\">-0.61769</td></tr><tr><td  style=\"background-color:AliceBlue;\">Freq1_harmonics_rel_phase_3</td><td  style=\"background-color:AliceBlue;\">-0.70085</td></tr><tr><td  style=\"background-color:Ivory;\">Freq2_harmonics_amplitude_0</td><td  style=\"background-color:Ivory;\">0.06520</td></tr><tr><td  style=\"background-color:AliceBlue;\">Freq2_harmonics_amplitude_1</td><td  style=\"background-color:AliceBlue;\">0.04155</td></tr><tr><td  style=\"background-color:Ivory;\">Freq2_harmonics_amplitude_2</td><td  style=\"background-color:Ivory;\">0.01794</td></tr><tr><td  style=\"background-color:AliceBlue;\">Freq2_harmonics_amplitude_3</td><td  style=\"background-color:AliceBlue;\">0.01471</td></tr><tr><td  style=\"background-color:Ivory;\">Freq2_harmonics_rel_phase_0</td><td  style=\"background-color:Ivory;\">0.00000</td></tr><tr><td  style=\"background-color:AliceBlue;\">Freq2_harmonics_rel_phase_1</td><td  style=\"background-color:AliceBlue;\">1.36434</td></tr><tr><td  style=\"background-color:Ivory;\">Freq2_harmonics_rel_phase_2</td><td  style=\"background-color:Ivory;\">-0.28030</td></tr><tr><td  style=\"background-color:AliceBlue;\">Freq2_harmonics_rel_phase_3</td><td  style=\"background-color:AliceBlue;\">0.26262</td></tr><tr><td  style=\"background-color:Ivory;\">Freq3_harmonics_amplitude_0</td><td  style=\"background-color:Ivory;\">0.06676</td></tr><tr><td  style=\"background-color:AliceBlue;\">Freq3_harmonics_amplitude_1</td><td  style=\"background-color:AliceBlue;\">0.01048</td></tr><tr><td  style=\"background-color:Ivory;\">Freq3_harmonics_amplitude_2</td><td  style=\"background-color:Ivory;\">0.00799</td></tr><tr><td  style=\"background-color:AliceBlue;\">Freq3_harmonics_amplitude_3</td><td  style=\"background-color:AliceBlue;\">0.00787</td></tr><tr><td  style=\"background-color:Ivory;\">Freq3_harmonics_rel_phase_0</td><td  style=\"background-color:Ivory;\">0.00000</td></tr><tr><td  style=\"background-color:AliceBlue;\">Freq3_harmonics_rel_phase_1</td><td  style=\"background-color:AliceBlue;\">-0.01493</td></tr><tr><td  style=\"background-color:Ivory;\">Freq3_harmonics_rel_phase_2</td><td  style=\"background-color:Ivory;\">-0.17788</td></tr><tr><td  style=\"background-color:AliceBlue;\">Freq3_harmonics_rel_phase_3</td><td  style=\"background-color:AliceBlue;\">-0.72110</td></tr><tr><td  style=\"background-color:Ivory;\">LinearTrend</td><td  style=\"background-color:Ivory;\">0.00001</td></tr><tr><td  style=\"background-color:AliceBlue;\">MaxSlope</td><td  style=\"background-color:AliceBlue;\">373.98649</td></tr><tr><td  style=\"background-color:Ivory;\">Mean</td><td  style=\"background-color:Ivory;\">10.84510</td></tr><tr><td  style=\"background-color:AliceBlue;\">Meanvariance</td><td  style=\"background-color:AliceBlue;\">0.02402</td></tr><tr><td  style=\"background-color:Ivory;\">MedianAbsDev</td><td  style=\"background-color:Ivory;\">0.02800</td></tr><tr><td  style=\"background-color:AliceBlue;\">MedianBRP</td><td  style=\"background-color:AliceBlue;\">0.93814</td></tr><tr><td  style=\"background-color:Ivory;\">PairSlopeTrend</td><td  style=\"background-color:Ivory;\">0.03333</td></tr><tr><td  style=\"background-color:AliceBlue;\">PercentAmplitude</td><td  style=\"background-color:AliceBlue;\">0.14657</td></tr><tr><td  style=\"background-color:Ivory;\">PercentDifferenceFluxPercentile</td><td  style=\"background-color:Ivory;\">0.05590</td></tr><tr><td  style=\"background-color:AliceBlue;\">PeriodLS</td><td  style=\"background-color:AliceBlue;\">0.18670</td></tr><tr><td  style=\"background-color:Ivory;\">Period_fit</td><td  style=\"background-color:Ivory;\">0.05989</td></tr><tr><td  style=\"background-color:AliceBlue;\">Psi_CS</td><td  style=\"background-color:AliceBlue;\">0.07261</td></tr><tr><td  style=\"background-color:Ivory;\">Psi_eta</td><td  style=\"background-color:Ivory;\">1.97184</td></tr><tr><td  style=\"background-color:AliceBlue;\">Q31</td><td  style=\"background-color:AliceBlue;\">0.05700</td></tr><tr><td  style=\"background-color:Ivory;\">Rcs</td><td  style=\"background-color:Ivory;\">0.05865</td></tr><tr><td  style=\"background-color:AliceBlue;\">Skew</td><td  style=\"background-color:AliceBlue;\">4.14916</td></tr><tr><td  style=\"background-color:Ivory;\">SlottedA_length</td><td  style=\"background-color:Ivory;\">0.00696</td></tr><tr><td  style=\"background-color:AliceBlue;\">SmallKurtosis</td><td  style=\"background-color:AliceBlue;\">17.09228</td></tr><tr><td  style=\"background-color:Ivory;\">Std</td><td  style=\"background-color:Ivory;\">0.26049</td></tr><tr><td  style=\"background-color:AliceBlue;\">StetsonK</td><td  style=\"background-color:AliceBlue;\">0.45479</td></tr><tr><td  style=\"background-color:Ivory;\">StetsonK_AC</td><td  style=\"background-color:Ivory;\">0.64913</td></tr></table>"
       ],
       "metadata": {},
       "output_type": "pyout",
       "prompt_number": 58,
       "text": [
        "<ipy_table.IpyTable at 0x10a00b190>"
       ]
      }
     ],
     "prompt_number": 58
    },
    {
     "cell_type": "code",
     "collapsed": false,
     "input": [
      "[unique, idx] = np.unique(time, return_index=True)\n",
      "time =  time[idx]\n",
      "mag = mag[idx]\n",
      "error = error[idx]\n",
      "lc = np.array([mag,time,error])"
     ],
     "language": "python",
     "metadata": {},
     "outputs": [],
     "prompt_number": 66
    },
    {
     "cell_type": "code",
     "collapsed": false,
     "input": [
      "a = F.FeatureSpace(Data= ['magnitude', 'time','error'], featureList=None )\n",
      "a=a.calculateFeature(lc)\n",
      "Table(a)"
     ],
     "language": "python",
     "metadata": {},
     "outputs": [
      {
       "output_type": "stream",
       "stream": "stdout",
       "text": [
        "Warning: the feature Color could not be calculated because ['magnitude', 'time', 'magnitude2'] are needed.\n",
        "Warning: the feature Eta_color could not be calculated because ['magnitude', 'time', 'magnitude2'] are needed.\n",
        "Warning: the feature"
       ]
      },
      {
       "output_type": "stream",
       "stream": "stdout",
       "text": [
        " Q31_color could not be calculated because ['magnitude', 'time', 'magnitude2'] are needed.\n",
        "Warning: the feature StetsonJ could not be calculated because ['magnitude', 'time', 'magnitude2'] are needed.\n",
        "Warning: the feature StetsonL could not be calculated because ['magnitude', 'time', 'magnitude2'] are needed.\n"
       ]
      },
      {
       "html": [
        "<table border=\"1\" cellpadding=\"3\" cellspacing=\"0\"  style=\"border:1px solid black;border-collapse:collapse;\"><tr><td  style=\"background-color:LightGray;\"><b>Feature</b></td><td  style=\"background-color:LightGray;\"><b>Value</b></td></tr><tr><td  style=\"background-color:Ivory;\">Amplitude</td><td  style=\"background-color:Ivory;\">0.59425</td></tr><tr><td  style=\"background-color:AliceBlue;\">AndersonDarling</td><td  style=\"background-color:AliceBlue;\">1.00000</td></tr><tr><td  style=\"background-color:Ivory;\">Autocor_length</td><td  style=\"background-color:Ivory;\">1.00000</td></tr><tr><td  style=\"background-color:AliceBlue;\">Beyond1Std</td><td  style=\"background-color:AliceBlue;\">0.05596</td></tr><tr><td  style=\"background-color:Ivory;\">CAR_mean</td><td  style=\"background-color:Ivory;\">3837.09347</td></tr><tr><td  style=\"background-color:AliceBlue;\">CAR_sigma</td><td  style=\"background-color:AliceBlue;\">6.83131</td></tr><tr><td  style=\"background-color:Ivory;\">CAR_tau</td><td  style=\"background-color:Ivory;\">0.00283</td></tr><tr><td  style=\"background-color:AliceBlue;\">Con</td><td  style=\"background-color:AliceBlue;\">0.00000</td></tr><tr><td  style=\"background-color:Ivory;\">Eta_e</td><td  style=\"background-color:Ivory;\">112192.23290</td></tr><tr><td  style=\"background-color:AliceBlue;\">FluxPercentileRatioMid20</td><td  style=\"background-color:AliceBlue;\">0.03483</td></tr><tr><td  style=\"background-color:Ivory;\">FluxPercentileRatioMid35</td><td  style=\"background-color:Ivory;\">0.06633</td></tr><tr><td  style=\"background-color:AliceBlue;\">FluxPercentileRatioMid50</td><td  style=\"background-color:AliceBlue;\">0.09453</td></tr><tr><td  style=\"background-color:Ivory;\">FluxPercentileRatioMid65</td><td  style=\"background-color:Ivory;\">0.14428</td></tr><tr><td  style=\"background-color:AliceBlue;\">FluxPercentileRatioMid80</td><td  style=\"background-color:AliceBlue;\">0.23715</td></tr><tr><td  style=\"background-color:Ivory;\">Freq1_harmonics_amplitude_0</td><td  style=\"background-color:Ivory;\">0.07609</td></tr><tr><td  style=\"background-color:AliceBlue;\">Freq1_harmonics_amplitude_1</td><td  style=\"background-color:AliceBlue;\">0.03088</td></tr><tr><td  style=\"background-color:Ivory;\">Freq1_harmonics_amplitude_2</td><td  style=\"background-color:Ivory;\">0.01469</td></tr><tr><td  style=\"background-color:AliceBlue;\">Freq1_harmonics_amplitude_3</td><td  style=\"background-color:AliceBlue;\">0.00587</td></tr><tr><td  style=\"background-color:Ivory;\">Freq1_harmonics_rel_phase_0</td><td  style=\"background-color:Ivory;\">0.00000</td></tr><tr><td  style=\"background-color:AliceBlue;\">Freq1_harmonics_rel_phase_1</td><td  style=\"background-color:AliceBlue;\">-1.54432</td></tr><tr><td  style=\"background-color:Ivory;\">Freq1_harmonics_rel_phase_2</td><td  style=\"background-color:Ivory;\">-0.61769</td></tr><tr><td  style=\"background-color:AliceBlue;\">Freq1_harmonics_rel_phase_3</td><td  style=\"background-color:AliceBlue;\">-0.70085</td></tr><tr><td  style=\"background-color:Ivory;\">Freq2_harmonics_amplitude_0</td><td  style=\"background-color:Ivory;\">0.06520</td></tr><tr><td  style=\"background-color:AliceBlue;\">Freq2_harmonics_amplitude_1</td><td  style=\"background-color:AliceBlue;\">0.04155</td></tr><tr><td  style=\"background-color:Ivory;\">Freq2_harmonics_amplitude_2</td><td  style=\"background-color:Ivory;\">0.01794</td></tr><tr><td  style=\"background-color:AliceBlue;\">Freq2_harmonics_amplitude_3</td><td  style=\"background-color:AliceBlue;\">0.01471</td></tr><tr><td  style=\"background-color:Ivory;\">Freq2_harmonics_rel_phase_0</td><td  style=\"background-color:Ivory;\">0.00000</td></tr><tr><td  style=\"background-color:AliceBlue;\">Freq2_harmonics_rel_phase_1</td><td  style=\"background-color:AliceBlue;\">1.36434</td></tr><tr><td  style=\"background-color:Ivory;\">Freq2_harmonics_rel_phase_2</td><td  style=\"background-color:Ivory;\">-0.28030</td></tr><tr><td  style=\"background-color:AliceBlue;\">Freq2_harmonics_rel_phase_3</td><td  style=\"background-color:AliceBlue;\">0.26262</td></tr><tr><td  style=\"background-color:Ivory;\">Freq3_harmonics_amplitude_0</td><td  style=\"background-color:Ivory;\">0.06676</td></tr><tr><td  style=\"background-color:AliceBlue;\">Freq3_harmonics_amplitude_1</td><td  style=\"background-color:AliceBlue;\">0.01048</td></tr><tr><td  style=\"background-color:Ivory;\">Freq3_harmonics_amplitude_2</td><td  style=\"background-color:Ivory;\">0.00799</td></tr><tr><td  style=\"background-color:AliceBlue;\">Freq3_harmonics_amplitude_3</td><td  style=\"background-color:AliceBlue;\">0.00787</td></tr><tr><td  style=\"background-color:Ivory;\">Freq3_harmonics_rel_phase_0</td><td  style=\"background-color:Ivory;\">0.00000</td></tr><tr><td  style=\"background-color:AliceBlue;\">Freq3_harmonics_rel_phase_1</td><td  style=\"background-color:AliceBlue;\">-0.01493</td></tr><tr><td  style=\"background-color:Ivory;\">Freq3_harmonics_rel_phase_2</td><td  style=\"background-color:Ivory;\">-0.17788</td></tr><tr><td  style=\"background-color:AliceBlue;\">Freq3_harmonics_rel_phase_3</td><td  style=\"background-color:AliceBlue;\">-0.72110</td></tr><tr><td  style=\"background-color:Ivory;\">LinearTrend</td><td  style=\"background-color:Ivory;\">0.00001</td></tr><tr><td  style=\"background-color:AliceBlue;\">MaxSlope</td><td  style=\"background-color:AliceBlue;\">373.98649</td></tr><tr><td  style=\"background-color:Ivory;\">Mean</td><td  style=\"background-color:Ivory;\">10.84510</td></tr><tr><td  style=\"background-color:AliceBlue;\">Meanvariance</td><td  style=\"background-color:AliceBlue;\">0.02402</td></tr><tr><td  style=\"background-color:Ivory;\">MedianAbsDev</td><td  style=\"background-color:Ivory;\">0.02800</td></tr><tr><td  style=\"background-color:AliceBlue;\">MedianBRP</td><td  style=\"background-color:AliceBlue;\">0.93814</td></tr><tr><td  style=\"background-color:Ivory;\">PairSlopeTrend</td><td  style=\"background-color:Ivory;\">0.03333</td></tr><tr><td  style=\"background-color:AliceBlue;\">PercentAmplitude</td><td  style=\"background-color:AliceBlue;\">0.14657</td></tr><tr><td  style=\"background-color:Ivory;\">PercentDifferenceFluxPercentile</td><td  style=\"background-color:Ivory;\">0.05590</td></tr><tr><td  style=\"background-color:AliceBlue;\">PeriodLS</td><td  style=\"background-color:AliceBlue;\">0.18670</td></tr><tr><td  style=\"background-color:Ivory;\">Period_fit</td><td  style=\"background-color:Ivory;\">0.05989</td></tr><tr><td  style=\"background-color:AliceBlue;\">Psi_CS</td><td  style=\"background-color:AliceBlue;\">0.07261</td></tr><tr><td  style=\"background-color:Ivory;\">Psi_eta</td><td  style=\"background-color:Ivory;\">1.97184</td></tr><tr><td  style=\"background-color:AliceBlue;\">Q31</td><td  style=\"background-color:AliceBlue;\">0.05700</td></tr><tr><td  style=\"background-color:Ivory;\">Rcs</td><td  style=\"background-color:Ivory;\">0.05865</td></tr><tr><td  style=\"background-color:AliceBlue;\">Skew</td><td  style=\"background-color:AliceBlue;\">4.14916</td></tr><tr><td  style=\"background-color:Ivory;\">SlottedA_length</td><td  style=\"background-color:Ivory;\">0.00696</td></tr><tr><td  style=\"background-color:AliceBlue;\">SmallKurtosis</td><td  style=\"background-color:AliceBlue;\">17.09228</td></tr><tr><td  style=\"background-color:Ivory;\">Std</td><td  style=\"background-color:Ivory;\">0.26049</td></tr><tr><td  style=\"background-color:AliceBlue;\">StetsonK</td><td  style=\"background-color:AliceBlue;\">0.45479</td></tr><tr><td  style=\"background-color:Ivory;\">StetsonK_AC</td><td  style=\"background-color:Ivory;\">0.64913</td></tr></table>"
       ],
       "metadata": {},
       "output_type": "pyout",
       "prompt_number": 68,
       "text": [
        "<ipy_table.IpyTable at 0x10a00b210>"
       ]
      }
     ],
     "prompt_number": 68
    },
    {
     "cell_type": "code",
     "collapsed": false,
     "input": [
      "slope = np.abs(mag[1:] - mag[:-1]) / (time[1:] - time[:-1])\n",
      "np.max(slope)"
     ],
     "language": "python",
     "metadata": {},
     "outputs": [
      {
       "metadata": {},
       "output_type": "pyout",
       "prompt_number": 52,
       "text": [
        "373.98648639650577"
       ]
      }
     ],
     "prompt_number": 52
    },
    {
     "cell_type": "code",
     "collapsed": false,
     "input": [
      "lc[0]"
     ],
     "language": "python",
     "metadata": {},
     "outputs": [
      {
       "metadata": {},
       "output_type": "pyout",
       "prompt_number": 56,
       "text": [
        "array([ 1869.75587,  1872.79879,  1873.78942,  1876.76319,  1877.76714,\n",
        "        1878.75383,  1880.74389,  1881.73326,  1884.71714,  1885.72519,\n",
        "        1886.72656,  1887.72002,  1888.71691,  1889.73036,  1899.69336,\n",
        "        1899.69835,  1900.70263,  1900.70763,  1902.68029,  1903.70176,\n",
        "        1904.67981,  1905.68881,  1906.6799 ,  1907.6869 ,  1908.67917,\n",
        "        1913.65588,  1914.67193,  1915.67145,  1918.65084,  1919.65957,\n",
        "        1921.65931,  1922.65865,  1923.65404,  1925.64992,  1926.64174,\n",
        "        1928.65032,  1929.64092,  1930.63896,  1931.63398,  1932.63096,\n",
        "        1933.63045,  1934.62987,  1936.61241,  1938.60723,  1940.60878,\n",
        "        1945.60756,  1947.60212,  1949.59112,  1950.59551,  1952.58628,\n",
        "        1952.59118,  1953.58632,  1955.55568,  1955.56048,  1958.56983,\n",
        "        1961.55519,  1963.55649,  1965.54744,  1967.54891,  1977.51694,\n",
        "        1984.54254,  2129.92346,  2133.92341,  2143.90845,  2166.9007 ,\n",
        "        2168.86796,  2172.82708,  2183.84759,  2184.89026,  2186.83477,\n",
        "        2188.85568,  2190.81229,  2192.80253,  2194.80125,  2196.83777,\n",
        "        2198.79167,  2200.80192,  2202.78412,  2208.7973 ,  2212.74654,\n",
        "        2215.73396,  2215.77689,  2216.77642,  2222.71403,  2224.76447,\n",
        "        2225.71728,  2225.8126 ,  2226.82164,  2227.80341,  2228.81396,\n",
        "        2229.79882,  2232.73574,  2232.75895,  2233.79949,  2233.81793,\n",
        "        2234.77224,  2234.79004,  2235.76207,  2236.76736,  2236.79906,\n",
        "        2237.79379,  2240.78983,  2241.73853,  2241.77958,  2496.9189 ,\n",
        "        2498.92162,  2502.91714,  2526.87602,  2545.79849,  2558.82368,\n",
        "        2560.81148,  2562.81359,  2564.81228,  2566.81189,  2574.77128,\n",
        "        2621.76979,  2623.71519,  2625.70305,  2628.6682 ,  2631.81698,\n",
        "        2635.67071,  2637.68386,  2641.68885,  2643.7007 ,  2645.68255,\n",
        "        2647.66538,  2650.64411,  2652.6618 ,  2654.66314,  2657.69647,\n",
        "        2659.71515,  2661.71232,  2663.70866,  2665.7015 ,  2667.70096,\n",
        "        2669.69033,  2673.68388,  2675.67162,  2677.65107,  2681.62138,\n",
        "        2683.62481,  2684.7627 ,  2686.68577,  2690.66994,  2692.66696,\n",
        "        2694.67124,  2696.68358,  2698.66477,  2700.65727,  2702.6493 ,\n",
        "        2704.6365 ,  2706.61571,  2710.58944,  2711.68098,  2713.65038,\n",
        "        2719.5712 ,  2721.59432,  2723.5947 ,  2725.59132,  2727.58483,\n",
        "        2729.58261,  2733.57063,  2737.55776,  2739.58029,  2741.55538,\n",
        "        2743.57453,  2745.5821 ,  2751.51891,  2754.51949,  2756.52115,\n",
        "        2760.53415,  2762.53294,  2764.51743,  2784.47218,  2786.47241,\n",
        "        2789.47114,  2792.45892,  2795.45845,  2860.92642,  2877.91117,\n",
        "        2884.89063,  2893.88052,  2896.87058,  2899.88936,  2905.8833 ,\n",
        "        2911.85536,  2915.87769,  2922.79833,  2924.85136,  2929.82478,\n",
        "        2932.83636,  2935.81699,  2940.75914,  2942.80885,  2944.79824,\n",
        "        2947.7915 ,  2948.82618,  2951.81181,  2954.78754,  2957.78467,\n",
        "        2960.79174,  2963.77014,  2966.75371,  2970.76782,  2973.78943,\n",
        "        2975.72492,  2977.72819,  2979.74136,  2981.75344,  2984.70737,\n",
        "        2989.69523,  2991.7442 ,  2996.7305 ,  2998.73535,  3001.72674,\n",
        "        3005.75291,  3007.7216 ,  3009.7546 ,  3011.77461,  3015.64622,\n",
        "        3017.67911,  3019.67751,  3029.64583,  3031.69355,  3033.70709,\n",
        "        3035.65949,  3039.67744,  3042.67482,  3044.70012,  3047.64633,\n",
        "        3050.59912,  3052.70055,  3054.71669,  3057.57785,  3059.6439 ,\n",
        "        3061.68539,  3067.57855,  3069.61321,  3071.62423,  3073.65988,\n",
        "        3075.67776,  3078.55186,  3086.63651,  3088.64441,  3090.65179,\n",
        "        3092.64179,  3096.61951,  3098.62956,  3101.53049,  3103.53932,\n",
        "        3105.54441,  3107.55221,  3109.56059,  3111.55792,  3113.57489,\n",
        "        3116.55009,  3122.53157,  3124.5573 ,  3127.51839,  3129.53316,\n",
        "        3131.53889,  3134.49763,  3144.49403,  3159.46555,  3270.85963,\n",
        "        3274.86673,  3278.85269,  3295.86859,  3357.69596,  3363.70508,\n",
        "        3387.72498,  3389.77057,  3391.82422,  3399.72153,  3404.69781,\n",
        "        3413.66042,  3415.67141,  3417.66355,  3419.65231,  3421.67353,\n",
        "        3425.68951,  3427.7099 ,  3436.68172,  3439.67276,  3445.55198,\n",
        "        3454.62677,  3455.64396,  3456.62094,  3457.65113,  3458.61022,\n",
        "        3459.64591,  3460.61252,  3462.5257 ,  3466.59913,  3468.56766,\n",
        "        3469.60055,  3470.58601,  3471.60647,  3478.55776,  3480.57996,\n",
        "        3492.54904,  3495.527  ,  3499.47062,  3499.50513,  3501.49437,\n",
        "        3501.50577,  3503.52854,  3512.47166,  3513.46279,  3520.4742 ,\n",
        "        3526.46494,  3589.92857,  3596.92833,  3601.92559,  3617.91567,\n",
        "        3621.90583,  3629.89708,  3643.88679,  3647.89187,  3651.83148,\n",
        "        3655.81534,  3658.82694,  3662.82892,  3666.80653,  3670.8    ,\n",
        "        3673.82518,  3699.76152,  3702.7725 ,  3702.77539,  3705.75327,\n",
        "        3708.73644,  3708.74388,  3712.77057,  3714.7885 ,  3717.71484,\n",
        "        3722.6953 ,  3722.70503,  3725.73324,  3725.74051,  3727.80353,\n",
        "        3727.83281,  3731.73476,  3734.71444,  3737.68265,  3737.68814,\n",
        "        3739.73246,  3742.64702,  3742.65445,  3744.72345,  3744.73211,\n",
        "        3747.63849,  3749.73485,  3749.74056,  3752.69561,  3752.70194,\n",
        "        3754.75698,  3754.76257,  3756.80855,  3756.81408,  3759.6339 ,\n",
        "        3761.78495,  3766.74905,  3766.75206,  3774.63369,  3776.66757,\n",
        "        3778.66045,  3780.71338,  3780.72318,  3783.75175,  3790.73024,\n",
        "        3792.72404,  3793.62427,  3795.67304,  3797.6771 ,  3799.72155,\n",
        "        3804.62987,  3809.6354 ,  3811.64182,  3811.6691 ,  3818.59957,\n",
        "        3818.61015,  3820.6091 ,  3820.64302,  3825.58298,  3825.59086,\n",
        "        3827.59687,  3832.55363,  3836.55953,  3849.52372,  3849.54878,\n",
        "        3851.54343,  3851.55873,  3853.55593,  3861.52622,  3862.49395,\n",
        "        3863.53194,  3864.52235,  3866.47846,  3869.48644,  3871.49973,\n",
        "        3877.46541,  3880.47724,  3893.45509,  4089.71252,  4091.68627,\n",
        "        4126.67905,  4127.70231,  4128.70326,  4129.68486,  4130.69309,\n",
        "        4131.71839,  4134.74099,  4139.57315,  4142.57827,  4143.62902,\n",
        "        4144.63818,  4145.69341,  4146.68313,  4151.61122,  4152.54322,\n",
        "        4153.61192,  4154.58235,  4157.66938,  4159.67513,  4160.66477,\n",
        "        4161.67008,  4163.68242,  4167.62793,  4172.55951,  4174.57876,\n",
        "        4176.61046,  4177.6724 ,  4181.65073,  4182.6187 ,  4184.61502,\n",
        "        4188.54689,  4190.53705,  4191.51699,  4192.54346,  4193.53926,\n",
        "        4194.59895,  4196.58918,  4197.57882,  4200.57821,  4203.57997,\n",
        "        4205.58859,  4213.49631,  4216.5494 ,  4216.56168,  4228.49633,\n",
        "        4228.52487,  4230.50621,  4230.52762,  4232.51983,  4233.49051,\n",
        "        4234.51972,  4235.49516,  4238.48131,  4238.50095,  4247.46795,\n",
        "        4250.46652,  4256.44841,  4258.45439,  4329.9244 ,  4334.91451,\n",
        "        4339.91765,  4343.89774,  4347.90233,  4354.91001,  4363.86575,\n",
        "        4367.86884,  4375.87753,  4378.89035,  4382.83633,  4386.83461,\n",
        "        4399.87453,  4403.81975,  4407.83348,  4408.77644,  4410.81443,\n",
        "        4411.82145,  4418.84344,  4420.84758,  4422.75688,  4423.79501,\n",
        "        4426.77839,  4432.75289,  4435.7469 ,  4438.73509,  4441.73052,\n",
        "        4453.696  ,  4456.68759,  4458.77586,  4459.67513,  4461.69658,\n",
        "        4463.80068,  4464.66814,  4466.69112,  4466.77196,  4469.69058,\n",
        "        4469.6926 ,  4475.66013,  4475.6657 ,  4478.66957,  4478.67265,\n",
        "        4481.63445,  4487.60746,  4489.60171,  4489.64697,  4491.65188,\n",
        "        4491.68823,  4493.68942,  4493.71649,  4497.61298,  4499.71841,\n",
        "        4499.72919,  4502.64757,  4502.65315,  4504.706  ,  4507.60275,\n",
        "        4509.68654,  4511.65469,  4511.75695,  4517.68829,  4519.65569,\n",
        "        4519.69256,  4521.67149,  4521.70978,  4523.73327,  4526.57728,\n",
        "        4528.57839,  4528.62004,  4530.64304,  4530.68203,  4533.57665,\n",
        "        4533.58573,  4536.63103,  4536.64515,  4538.6824 ,  4541.53173,\n",
        "        4541.53427,  4543.55684,  4543.55958,  4547.5983 ,  4547.60077,\n",
        "        4552.57607,  4552.5786 ,  4554.59783,  4554.60038,  4556.61346,\n",
        "        4558.61838,  4561.57444,  4561.57688,  4563.59484,  4563.59724,\n",
        "        4565.6018 ,  4565.60517,  4568.5302 ,  4568.53264,  4570.53986,\n",
        "        4570.54217,  4572.56724,  4572.56953,  4574.59399,  4575.5321 ,\n",
        "        4579.53226,  4579.54339,  4582.55332,  4582.5649 ,  4586.50225,\n",
        "        4586.51148,  4589.51301,  4589.52293,  4591.53688,  4592.49925,\n",
        "        4594.48771,  4595.47802,  4596.49072,  4597.49082,  4599.48591,\n",
        "        4600.50511,  4602.48833,  4603.50983,  4606.49125,  4608.47587,\n",
        "        4610.46244,  4616.45394,  4620.45408,  4685.92838,  4690.92675,\n",
        "        4696.92036,  4700.92166,  4704.91314,  4708.91942,  4715.91285,\n",
        "        4720.9081 ,  4725.90009,  4729.86236,  4733.90013,  4740.89263,\n",
        "        4744.86584,  4752.82283,  4756.83389,  4760.8407 ,  4764.81636,\n",
        "        4768.81522,  4771.84702,  4774.84895,  4777.83702,  4780.80849,\n",
        "        4784.75397,  4787.78293,  4793.78329,  4796.81876,  4797.76963,\n",
        "        4800.74519,  4803.73466,  4806.72545,  4808.77937,  4812.73104,\n",
        "        4815.70592,  4818.7503 ,  4818.75326,  4821.69525,  4824.66997,\n",
        "        4824.67693,  4827.7027 ,  4827.71217,  4830.67183,  4837.70994,\n",
        "        4837.72328,  4840.63268,  4840.63642,  4842.73283,  4842.73885,\n",
        "        4845.70935,  4847.76761,  4850.65902,  4850.66195,  4855.73113,\n",
        "        4855.73411,  4858.68338,  4858.68635,  4861.72297,  4864.58486,\n",
        "        4864.58858,  4867.61909,  4871.70739,  4871.71045,  4876.7628 ,\n",
        "        4877.54461,  4882.61962,  4884.72824,  4893.57395,  4905.58943,\n",
        "        4907.64092,  4911.59833,  4920.59035,  4934.58378,  4947.56388,\n",
        "        4953.51317,  4963.4877 ,  4966.48686,  5070.91922,  5084.88322,\n",
        "        5088.87143,  5092.86343,  5098.89878,  5116.87593,  5123.85436,\n",
        "        5128.86879,  5132.80416,  5144.85585,  5148.81599,  5154.82632,\n",
        "        5158.76097,  5162.78166,  5165.76092,  5168.74789])"
       ]
      }
     ],
     "prompt_number": 56
    },
    {
     "cell_type": "code",
     "collapsed": false,
     "input": [
      "a.result(method='dict')"
     ],
     "language": "python",
     "metadata": {},
     "outputs": [
      {
       "metadata": {},
       "output_type": "pyout",
       "prompt_number": 59,
       "text": [
        "{'Amplitude': 0.59424999999999972,\n",
        " 'AndersonDarling': 1.0,\n",
        " 'Autocor_length': 1.0,\n",
        " 'Beyond1Std': 0.055964653902798235,\n",
        " 'CAR_mean': 3837.0934722802731,\n",
        " 'CAR_sigma': 6.8313132253836315,\n",
        " 'CAR_tau': 0.0028263841435247801,\n",
        " 'Con': 0.0,\n",
        " 'Eta_e': 112192.23290094075,\n",
        " 'FluxPercentileRatioMid20': 0.034825870646770347,\n",
        " 'FluxPercentileRatioMid35': 0.0663349917081274,\n",
        " 'FluxPercentileRatioMid50': 0.094527363184080004,\n",
        " 'FluxPercentileRatioMid65': 0.14427860696517039,\n",
        " 'FluxPercentileRatioMid80': 0.23714759535654817,\n",
        " 'Freq1_harmonics_amplitude_0': 0.076085634039525826,\n",
        " 'Freq1_harmonics_amplitude_1': 0.030880936916208367,\n",
        " 'Freq1_harmonics_amplitude_2': 0.014688494036764086,\n",
        " 'Freq1_harmonics_amplitude_3': 0.0058697908038681827,\n",
        " 'Freq1_harmonics_rel_phase_0': 0.0,\n",
        " 'Freq1_harmonics_rel_phase_1': -1.5443155176378691,\n",
        " 'Freq1_harmonics_rel_phase_2': -0.61769235242622966,\n",
        " 'Freq1_harmonics_rel_phase_3': -0.70085132678767081,\n",
        " 'Freq2_harmonics_amplitude_0': 0.065201273982255961,\n",
        " 'Freq2_harmonics_amplitude_1': 0.041552193885815929,\n",
        " 'Freq2_harmonics_amplitude_2': 0.017939704621744972,\n",
        " 'Freq2_harmonics_amplitude_3': 0.014711749187036877,\n",
        " 'Freq2_harmonics_rel_phase_0': 0.0,\n",
        " 'Freq2_harmonics_rel_phase_1': 1.3643410036568342,\n",
        " 'Freq2_harmonics_rel_phase_2': -0.28029545849783688,\n",
        " 'Freq2_harmonics_rel_phase_3': 0.26262298408548557,\n",
        " 'Freq3_harmonics_amplitude_0': 0.066761712448031446,\n",
        " 'Freq3_harmonics_amplitude_1': 0.010476647278750134,\n",
        " 'Freq3_harmonics_amplitude_2': 0.0079857165708300138,\n",
        " 'Freq3_harmonics_amplitude_3': 0.0078711884295441983,\n",
        " 'Freq3_harmonics_rel_phase_0': 0.0,\n",
        " 'Freq3_harmonics_rel_phase_1': -0.014933290411650535,\n",
        " 'Freq3_harmonics_rel_phase_2': -0.1778801652178745,\n",
        " 'Freq3_harmonics_rel_phase_3': -0.721095570006413,\n",
        " 'LinearTrend': 1.3244182381410363e-05,\n",
        " 'MaxSlope': 373.98648639650577,\n",
        " 'Mean': 10.845100147275405,\n",
        " 'Meanvariance': 0.024019163584226479,\n",
        " 'MedianAbsDev': 0.028000000000000469,\n",
        " 'MedianBRP': 0.93814432989690721,\n",
        " 'PairSlopeTrend': 0.033333333333333333,\n",
        " 'PercentAmplitude': 0.14656531009548526,\n",
        " 'PercentDifferenceFluxPercentile': 0.055900621118012563,\n",
        " 'PeriodLS': 0.18670017091114885,\n",
        " 'Period_fit': 0.05988625930451974,\n",
        " 'Psi_CS': 0.072606845830924555,\n",
        " 'Psi_eta': 1.9718418970080949,\n",
        " 'Q31': 0.057000000000000384,\n",
        " 'Rcs': 0.058646259868744763,\n",
        " 'Skew': 4.1491588980944138,\n",
        " 'SlottedA_length': 0.0069599999997080886,\n",
        " 'SmallKurtosis': 17.092279798822833,\n",
        " 'Std': 0.26049023452472664,\n",
        " 'StetsonK': 0.45479089689713048,\n",
        " 'StetsonK_AC': 0.64913122565967263}"
       ]
      }
     ],
     "prompt_number": 59
    },
    {
     "cell_type": "code",
     "collapsed": false,
     "input": [
      "time"
     ],
     "language": "python",
     "metadata": {},
     "outputs": [
      {
       "metadata": {},
       "output_type": "pyout",
       "prompt_number": 62,
       "text": [
        "array([ 1869.75587,  1872.79879,  1873.78942,  1876.76319,  1876.76319,\n",
        "        1877.76714,  1878.75383,  1880.74389,  1881.73326,  1884.71714,\n",
        "        1885.72519,  1885.72519,  1886.72656,  1887.72002,  1888.71691,\n",
        "        1889.73036,  1899.69336,  1899.69835,  1900.70263,  1900.70763,\n",
        "        1902.68029,  1903.70176,  1904.67981,  1905.68881,  1906.6799 ,\n",
        "        1907.6869 ,  1908.67917,  1908.67917,  1913.65588,  1914.67193,\n",
        "        1915.67145,  1918.65084,  1919.65957,  1921.65931,  1921.65931,\n",
        "        1922.65865,  1923.65404,  1923.65404,  1925.64992,  1926.64174,\n",
        "        1926.64174,  1928.65032,  1928.65032,  1929.64092,  1930.63896,\n",
        "        1931.63398,  1932.63096,  1933.63045,  1934.62987,  1936.61241,\n",
        "        1938.60723,  1940.60878,  1945.60756,  1947.60212,  1949.59112,\n",
        "        1950.59551,  1952.58628,  1952.59118,  1953.58632,  1955.55568,\n",
        "        1955.56048,  1958.56983,  1961.55519,  1963.55649,  1965.54744,\n",
        "        1967.54891,  1977.51694,  1984.54254,  2129.92346,  2133.92341,\n",
        "        2143.90845,  2166.9007 ,  2168.86796,  2172.82708,  2183.84759,\n",
        "        2184.89026,  2186.83477,  2188.85568,  2190.81229,  2192.80253,\n",
        "        2194.80125,  2196.83777,  2198.79167,  2200.80192,  2202.78412,\n",
        "        2208.7973 ,  2212.74654,  2212.74654,  2215.73396,  2215.77689,\n",
        "        2216.77642,  2222.71403,  2224.76447,  2225.71728,  2225.8126 ,\n",
        "        2226.82164,  2227.80341,  2228.81396,  2229.79882,  2232.73574,\n",
        "        2232.75895,  2233.79949,  2233.81793,  2234.77224,  2234.77224,\n",
        "        2234.79004,  2235.76207,  2236.76736,  2236.79906,  2237.79379,\n",
        "        2240.78983,  2241.73853,  2241.77958,  2496.9189 ,  2498.92162,\n",
        "        2502.91714,  2526.87602,  2545.79849,  2545.79849,  2558.82368,\n",
        "        2560.81148,  2562.81359,  2564.81228,  2566.81189,  2574.77128,\n",
        "        2621.76979,  2623.71519,  2623.71519,  2625.70305,  2628.6682 ,\n",
        "        2628.6682 ,  2631.81698,  2635.67071,  2635.67071,  2637.68386,\n",
        "        2641.68885,  2643.7007 ,  2643.7007 ,  2645.68255,  2647.66538,\n",
        "        2650.64411,  2652.6618 ,  2652.6618 ,  2654.66314,  2657.69647,\n",
        "        2659.71515,  2661.71232,  2663.70866,  2665.7015 ,  2667.70096,\n",
        "        2669.69033,  2673.68388,  2675.67162,  2677.65107,  2681.62138,\n",
        "        2683.62481,  2684.7627 ,  2684.7627 ,  2686.68577,  2690.66994,\n",
        "        2692.66696,  2694.67124,  2696.68358,  2698.66477,  2700.65727,\n",
        "        2702.6493 ,  2704.6365 ,  2706.61571,  2706.61571,  2710.58944,\n",
        "        2711.68098,  2713.65038,  2719.5712 ,  2721.59432,  2721.59432,\n",
        "        2723.5947 ,  2725.59132,  2727.58483,  2727.58483,  2729.58261,\n",
        "        2733.57063,  2737.55776,  2737.55776,  2739.58029,  2741.55538,\n",
        "        2741.55538,  2743.57453,  2745.5821 ,  2751.51891,  2754.51949,\n",
        "        2756.52115,  2760.53415,  2762.53294,  2764.51743,  2784.47218,\n",
        "        2786.47241,  2789.47114,  2789.47114,  2792.45892,  2795.45845,\n",
        "        2795.45845,  2860.92642,  2877.91117,  2884.89063,  2884.89063,\n",
        "        2893.88052,  2896.87058,  2899.88936,  2905.8833 ,  2911.85536,\n",
        "        2915.87769,  2915.87769,  2922.79833,  2924.85136,  2929.82478,\n",
        "        2932.83636,  2935.81699,  2940.75914,  2940.75914,  2942.80885,\n",
        "        2944.79824,  2947.7915 ,  2948.82618,  2951.81181,  2954.78754,\n",
        "        2957.78467,  2960.79174,  2963.77014,  2966.75371,  2970.76782,\n",
        "        2973.78943,  2975.72492,  2977.72819,  2979.74136,  2981.75344,\n",
        "        2984.70737,  2989.69523,  2991.7442 ,  2996.7305 ,  2998.73535,\n",
        "        3001.72674,  3005.75291,  3007.7216 ,  3007.7216 ,  3009.7546 ,\n",
        "        3009.7546 ,  3011.77461,  3011.77461,  3015.64622,  3017.67911,\n",
        "        3019.67751,  3029.64583,  3031.69355,  3033.70709,  3035.65949,\n",
        "        3039.67744,  3042.67482,  3044.70012,  3047.64633,  3050.59912,\n",
        "        3052.70055,  3052.70055,  3054.71669,  3057.57785,  3059.6439 ,\n",
        "        3061.68539,  3061.68539,  3067.57855,  3069.61321,  3071.62423,\n",
        "        3073.65988,  3073.65988,  3075.67776,  3078.55186,  3078.55186,\n",
        "        3086.63651,  3088.64441,  3090.65179,  3092.64179,  3096.61951,\n",
        "        3096.61951,  3098.62956,  3101.53049,  3103.53932,  3105.54441,\n",
        "        3105.54441,  3107.55221,  3109.56059,  3111.55792,  3111.55792,\n",
        "        3113.57489,  3116.55009,  3116.55009,  3122.53157,  3124.5573 ,\n",
        "        3124.5573 ,  3127.51839,  3129.53316,  3131.53889,  3134.49763,\n",
        "        3144.49403,  3159.46555,  3270.85963,  3274.86673,  3278.85269,\n",
        "        3278.85269,  3295.86859,  3295.86859,  3357.69596,  3363.70508,\n",
        "        3387.72498,  3389.77057,  3391.82422,  3399.72153,  3404.69781,\n",
        "        3413.66042,  3415.67141,  3417.66355,  3419.65231,  3421.67353,\n",
        "        3425.68951,  3427.7099 ,  3436.68172,  3439.67276,  3439.67276,\n",
        "        3445.55198,  3454.62677,  3455.64396,  3456.62094,  3457.65113,\n",
        "        3458.61022,  3459.64591,  3460.61252,  3462.5257 ,  3466.59913,\n",
        "        3468.56766,  3469.60055,  3470.58601,  3471.60647,  3478.55776,\n",
        "        3480.57996,  3492.54904,  3495.527  ,  3499.47062,  3499.50513,\n",
        "        3501.49437,  3501.50577,  3503.52854,  3512.47166,  3513.46279,\n",
        "        3520.4742 ,  3526.46494,  3589.92857,  3596.92833,  3601.92559,\n",
        "        3617.91567,  3621.90583,  3629.89708,  3643.88679,  3647.89187,\n",
        "        3651.83148,  3655.81534,  3658.82694,  3662.82892,  3666.80653,\n",
        "        3670.8    ,  3673.82518,  3699.76152,  3702.7725 ,  3702.77539,\n",
        "        3705.75327,  3708.73644,  3708.74388,  3712.77057,  3714.7885 ,\n",
        "        3717.71484,  3722.6953 ,  3722.70503,  3725.73324,  3725.74051,\n",
        "        3727.80353,  3727.83281,  3731.73476,  3734.71444,  3737.68265,\n",
        "        3737.68814,  3739.73246,  3742.64702,  3742.65445,  3744.72345,\n",
        "        3744.73211,  3747.63849,  3749.73485,  3749.74056,  3752.69561,\n",
        "        3752.70194,  3754.75698,  3754.75698,  3754.76257,  3756.80855,\n",
        "        3756.81408,  3759.6339 ,  3761.78495,  3766.74905,  3766.75206,\n",
        "        3774.63369,  3776.66757,  3778.66045,  3780.71338,  3780.72318,\n",
        "        3783.75175,  3790.73024,  3792.72404,  3793.62427,  3795.67304,\n",
        "        3797.6771 ,  3799.72155,  3804.62987,  3809.6354 ,  3811.64182,\n",
        "        3811.6691 ,  3818.59957,  3818.61015,  3820.6091 ,  3820.64302,\n",
        "        3825.58298,  3825.59086,  3827.59687,  3832.55363,  3836.55953,\n",
        "        3849.52372,  3849.54878,  3851.54343,  3851.55873,  3853.55593,\n",
        "        3861.52622,  3862.49395,  3863.53194,  3863.53194,  3864.52235,\n",
        "        3866.47846,  3869.48644,  3871.49973,  3877.46541,  3880.47724,\n",
        "        3893.45509,  4089.71252,  4091.68627,  4126.67905,  4127.70231,\n",
        "        4128.70326,  4129.68486,  4130.69309,  4131.71839,  4134.74099,\n",
        "        4139.57315,  4142.57827,  4143.62902,  4144.63818,  4145.69341,\n",
        "        4146.68313,  4151.61122,  4152.54322,  4153.61192,  4154.58235,\n",
        "        4157.66938,  4159.67513,  4160.66477,  4161.67008,  4163.68242,\n",
        "        4167.62793,  4172.55951,  4174.57876,  4176.61046,  4177.6724 ,\n",
        "        4181.65073,  4182.6187 ,  4184.61502,  4188.54689,  4190.53705,\n",
        "        4191.51699,  4191.51699,  4192.54346,  4193.53926,  4194.59895,\n",
        "        4194.59895,  4196.58918,  4197.57882,  4200.57821,  4203.57997,\n",
        "        4205.58859,  4213.49631,  4216.5494 ,  4216.56168,  4228.49633,\n",
        "        4228.52487,  4230.50621,  4230.52762,  4232.51983,  4233.49051,\n",
        "        4234.51972,  4235.49516,  4238.48131,  4238.50095,  4247.46795,\n",
        "        4247.46795,  4250.46652,  4256.44841,  4258.45439,  4258.45439,\n",
        "        4329.9244 ,  4334.91451,  4339.91765,  4343.89774,  4347.90233,\n",
        "        4354.91001,  4363.86575,  4367.86884,  4375.87753,  4378.89035,\n",
        "        4382.83633,  4386.83461,  4399.87453,  4403.81975,  4407.83348,\n",
        "        4407.83348,  4408.77644,  4410.81443,  4411.82145,  4418.84344,\n",
        "        4420.84758,  4422.75688,  4423.79501,  4426.77839,  4432.75289,\n",
        "        4435.7469 ,  4438.73509,  4438.73509,  4441.73052,  4453.696  ,\n",
        "        4456.68759,  4458.77586,  4458.77586,  4459.67513,  4461.69658,\n",
        "        4463.80068,  4464.66814,  4464.66814,  4466.69112,  4466.77196,\n",
        "        4469.69058,  4469.6926 ,  4475.66013,  4475.6657 ,  4475.6657 ,\n",
        "        4478.66957,  4478.67265,  4481.63445,  4487.60746,  4489.60171,\n",
        "        4489.64697,  4489.64697,  4491.65188,  4491.68823,  4493.68942,\n",
        "        4493.68942,  4493.71649,  4497.61298,  4499.71841,  4499.71841,\n",
        "        4499.72919,  4502.64757,  4502.65315,  4504.706  ,  4507.60275,\n",
        "        4509.68654,  4509.68654,  4511.65469,  4511.65469,  4511.75695,\n",
        "        4517.68829,  4519.65569,  4519.69256,  4521.67149,  4521.67149,\n",
        "        4521.70978,  4523.73327,  4526.57728,  4528.57839,  4528.57839,\n",
        "        4528.62004,  4530.64304,  4530.68203,  4533.57665,  4533.57665,\n",
        "        4533.58573,  4536.63103,  4536.64515,  4538.6824 ,  4541.53173,\n",
        "        4541.53173,  4541.53427,  4543.55684,  4543.55958,  4547.5983 ,\n",
        "        4547.60077,  4552.57607,  4552.5786 ,  4554.59783,  4554.60038,\n",
        "        4556.61346,  4558.61838,  4561.57444,  4561.57688,  4563.59484,\n",
        "        4563.59724,  4565.6018 ,  4565.60517,  4568.5302 ,  4568.53264,\n",
        "        4570.53986,  4570.54217,  4572.56724,  4572.56953,  4572.56953,\n",
        "        4574.59399,  4575.5321 ,  4579.53226,  4579.54339,  4579.54339,\n",
        "        4582.55332,  4582.5649 ,  4582.5649 ,  4586.50225,  4586.51148,\n",
        "        4589.51301,  4589.52293,  4591.53688,  4592.49925,  4594.48771,\n",
        "        4595.47802,  4596.49072,  4597.49082,  4597.49082,  4599.48591,\n",
        "        4600.50511,  4600.50511,  4602.48833,  4603.50983,  4606.49125,\n",
        "        4608.47587,  4610.46244,  4616.45394,  4620.45408,  4620.45408,\n",
        "        4685.92838,  4690.92675,  4696.92036,  4700.92166,  4700.92166,\n",
        "        4704.91314,  4708.91942,  4715.91285,  4720.9081 ,  4725.90009,\n",
        "        4729.86236,  4733.90013,  4740.89263,  4744.86584,  4752.82283,\n",
        "        4752.82283,  4756.83389,  4760.8407 ,  4764.81636,  4768.81522,\n",
        "        4771.84702,  4774.84895,  4777.83702,  4780.80849,  4780.80849,\n",
        "        4784.75397,  4784.75397,  4787.78293,  4793.78329,  4796.81876,\n",
        "        4797.76963,  4800.74519,  4800.74519,  4803.73466,  4803.73466,\n",
        "        4806.72545,  4808.77937,  4812.73104,  4815.70592,  4818.7503 ,\n",
        "        4818.7503 ,  4818.75326,  4821.69525,  4824.66997,  4824.67693,\n",
        "        4827.7027 ,  4827.71217,  4830.67183,  4837.70994,  4837.72328,\n",
        "        4840.63268,  4840.63642,  4842.73283,  4842.73885,  4845.70935,\n",
        "        4847.76761,  4850.65902,  4850.66195,  4855.73113,  4855.73411,\n",
        "        4858.68338,  4858.68338,  4858.68635,  4861.72297,  4864.58486,\n",
        "        4864.58858,  4867.61909,  4871.70739,  4871.71045,  4876.7628 ,\n",
        "        4877.54461,  4882.61962,  4884.72824,  4893.57395,  4905.58943,\n",
        "        4907.64092,  4911.59833,  4920.59035,  4934.58378,  4947.56388,\n",
        "        4953.51317,  4963.4877 ,  4966.48686,  5070.91922,  5084.88322,\n",
        "        5088.87143,  5092.86343,  5098.89878,  5116.87593,  5123.85436,\n",
        "        5128.86879,  5132.80416,  5144.85585,  5148.81599,  5154.82632,\n",
        "        5158.76097,  5162.78166,  5165.76092,  5168.74789])"
       ]
      }
     ],
     "prompt_number": 62
    },
    {
     "cell_type": "code",
     "collapsed": false,
     "input": [],
     "language": "python",
     "metadata": {},
     "outputs": []
    }
   ],
   "metadata": {}
  }
 ]
}